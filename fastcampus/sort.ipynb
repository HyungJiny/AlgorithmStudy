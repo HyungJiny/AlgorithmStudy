{
 "cells": [
  {
   "cell_type": "code",
   "execution_count": 1,
   "metadata": {},
   "outputs": [],
   "source": [
    "import random"
   ]
  },
  {
   "cell_type": "markdown",
   "metadata": {},
   "source": [
    "### Bubble Sort"
   ]
  },
  {
   "cell_type": "code",
   "execution_count": 8,
   "metadata": {},
   "outputs": [],
   "source": [
    "def bubble(nums):\n",
    "    for i in range(len(nums)-1, 0, -1):\n",
    "        for j in range(i):\n",
    "            if nums[j] > nums[j+1]:\n",
    "                nums[j+1], nums[j] = nums[j], nums[j+1]\n",
    "    return nums"
   ]
  },
  {
   "cell_type": "code",
   "execution_count": 10,
   "metadata": {},
   "outputs": [
    {
     "name": "stdout",
     "output_type": "stream",
     "text": [
      "[0, 3, 6, 8, 10, 12, 13, 18, 20, 23, 26, 27, 28, 30, 31, 33, 39, 46, 51, 52, 53, 55, 56, 57, 59, 61, 62, 64, 66, 72, 78, 83, 89, 92, 93, 94, 95, 97, 98, 99]\n"
     ]
    }
   ],
   "source": [
    "print(bubble(random.sample(range(100), 40)))"
   ]
  },
  {
   "cell_type": "markdown",
   "metadata": {},
   "source": [
    "### Selection Sort"
   ]
  },
  {
   "cell_type": "code",
   "execution_count": 17,
   "metadata": {},
   "outputs": [],
   "source": [
    "def selection(nums):\n",
    "    for i in range(len(nums)):\n",
    "        for j in range(i, len(nums)):\n",
    "            if nums[i] > nums[j]:\n",
    "                nums[i], nums[j] = nums[j], nums[i]\n",
    "    return nums"
   ]
  },
  {
   "cell_type": "code",
   "execution_count": 19,
   "metadata": {},
   "outputs": [
    {
     "name": "stdout",
     "output_type": "stream",
     "text": [
      "[0, 5, 6, 7, 9, 12, 13, 15, 16, 17, 18, 21, 23, 25, 33, 41, 42, 44, 46, 47, 48, 55, 59, 60, 61, 63, 65, 66, 67, 73, 74, 80, 83, 87, 88, 91, 92, 94, 95, 98]\n"
     ]
    }
   ],
   "source": [
    "print(selection(random.sample(range(100), 40)))"
   ]
  },
  {
   "cell_type": "markdown",
   "metadata": {},
   "source": [
    "### Insert Sort"
   ]
  },
  {
   "cell_type": "code",
   "execution_count": 37,
   "metadata": {},
   "outputs": [],
   "source": [
    "def insert(nums):\n",
    "    for i in range(1, len(nums)):\n",
    "        j = i-1\n",
    "        key = nums[i]\n",
    "        while nums[j] > key and j >= 0:\n",
    "            nums[j+1] = nums[j]\n",
    "            j -= 1\n",
    "        nums[j+1] = key\n",
    "    return nums"
   ]
  },
  {
   "cell_type": "code",
   "execution_count": 38,
   "metadata": {},
   "outputs": [
    {
     "name": "stdout",
     "output_type": "stream",
     "text": [
      "[0, 4, 7, 10, 14, 16, 17, 18, 19, 21, 23, 25, 28, 30, 34, 39, 42, 43, 44, 46, 54, 56, 59, 60, 63, 66, 67, 68, 70, 76, 79, 82, 87, 88, 90, 91, 92, 93, 96, 97]\n"
     ]
    }
   ],
   "source": [
    "print(insert(random.sample(range(100), 40)))"
   ]
  },
  {
   "cell_type": "markdown",
   "metadata": {},
   "source": [
    "### Quick Sort"
   ]
  },
  {
   "cell_type": "code",
   "execution_count": 7,
   "metadata": {},
   "outputs": [],
   "source": [
    "def qsort(nums):\n",
    "    if len(nums) <= 1: return nums\n",
    "    pivot = nums[0]\n",
    "    left, right = [], []\n",
    "    for n in nums[1:]:\n",
    "        if n > pivot: right.append(n)\n",
    "        else: left.append(n)\n",
    "    return qsort(left) + [pivot] + qsort(right)"
   ]
  },
  {
   "cell_type": "code",
   "execution_count": 8,
   "metadata": {},
   "outputs": [
    {
     "name": "stdout",
     "output_type": "stream",
     "text": [
      "[0, 2, 3, 9, 10, 15, 18, 25, 31, 33, 35, 38, 39, 40, 42, 44, 45, 46, 50, 52, 53, 55, 56, 57, 62, 64, 65, 66, 67, 72, 73, 74, 79, 82, 83, 90, 91, 96, 97, 99]\n"
     ]
    }
   ],
   "source": [
    "print(qsort(random.sample(range(100), 40)))"
   ]
  },
  {
   "cell_type": "markdown",
   "metadata": {},
   "source": [
    "### Merge Sort"
   ]
  },
  {
   "cell_type": "code",
   "execution_count": 12,
   "metadata": {},
   "outputs": [],
   "source": [
    "def split(nums):\n",
    "    if len(nums) <= 1: return nums\n",
    "    medium = int(len(nums)/2)\n",
    "    return merge(split(nums[:medium]), split(nums[medium:]))"
   ]
  },
  {
   "cell_type": "code",
   "execution_count": 13,
   "metadata": {},
   "outputs": [],
   "source": [
    "def merge(left, right):\n",
    "    l, r = 0, 0\n",
    "    merged = []\n",
    "    while(l < len(left) and r < len(right)):\n",
    "        if left[l] > right[r]:\n",
    "            merged.append(right[r])\n",
    "            r += 1\n",
    "        else:\n",
    "            merged.append(left[l])\n",
    "            l += 1\n",
    "    if l < len(left): return merged + left[l:]\n",
    "    else: return merged + right[r:]"
   ]
  },
  {
   "cell_type": "code",
   "execution_count": 14,
   "metadata": {},
   "outputs": [
    {
     "name": "stdout",
     "output_type": "stream",
     "text": [
      "[1, 3, 4, 6, 7, 8, 12, 15, 18, 19, 21, 23, 24, 26, 29, 32, 37, 38, 43, 45, 47, 49, 56, 58, 59, 62, 63, 68, 72, 81, 82, 84, 86, 87, 88, 89, 92, 94, 96, 98]\n"
     ]
    }
   ],
   "source": [
    "print(split(random.sample(range(100), 40)))"
   ]
  },
  {
   "cell_type": "code",
   "execution_count": null,
   "metadata": {},
   "outputs": [],
   "source": []
  },
  {
   "cell_type": "code",
   "execution_count": 28,
   "metadata": {},
   "outputs": [],
   "source": [
    "def solution(n):\n",
    "    n_bin = \"{:b}\".format(n)\n",
    "    k = n_bin.count('1')\n",
    "    total = len(n_bin)\n",
    "    \n",
    "    result = set()\n",
    "\n",
    "    def make_bin(n, zero, one, num):\n",
    "        if zero+one <= 0:\n",
    "            if n > int(num, 2):\n",
    "                result.add(num)\n",
    "            return 0\n",
    "        if zero <= one or one > 0:\n",
    "            make_bin(n, zero, one-1, num+'1')\n",
    "        if zero >= one or zero > 0:\n",
    "            make_bin(n, zero-1, one, num+'0')\n",
    "\n",
    "    make_bin(n, total-k, k, '')\n",
    "    print(result)\n",
    "    return len(result)"
   ]
  },
  {
   "cell_type": "code",
   "execution_count": 31,
   "metadata": {},
   "outputs": [
    {
     "name": "stdout",
     "output_type": "stream",
     "text": [
      "{'0011010', '0011001', '1001100', '0110010', '1001010', '0001110', '1000011', '0101001', '0000111', '0101010', '1010010', '1001001', '0100101', '0010011', '0001011', '1010001', '0011100', '1100001', '0100011', '0010110', '0101100', '1010100', '0100110', '0110100', '1000101', '1011000', '0001101', '1000110', '0111000', '1100010', '0010101', '0110001'}\n",
      "32\n"
     ]
    }
   ],
   "source": [
    "print(solution(100))"
   ]
  },
  {
   "cell_type": "code",
   "execution_count": null,
   "metadata": {},
   "outputs": [],
   "source": []
  }
 ],
 "metadata": {
  "kernelspec": {
   "display_name": "Python 3",
   "language": "python",
   "name": "python3"
  },
  "language_info": {
   "codemirror_mode": {
    "name": "ipython",
    "version": 3
   },
   "file_extension": ".py",
   "mimetype": "text/x-python",
   "name": "python",
   "nbconvert_exporter": "python",
   "pygments_lexer": "ipython3",
   "version": "3.7.0"
  }
 },
 "nbformat": 4,
 "nbformat_minor": 4
}
