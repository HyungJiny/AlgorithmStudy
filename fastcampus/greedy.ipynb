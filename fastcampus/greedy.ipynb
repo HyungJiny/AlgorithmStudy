{
 "cells": [
  {
   "cell_type": "markdown",
   "metadata": {},
   "source": [
    "## 탐욕 알고리즘\n",
    "\n",
    "매순간 최적이라고 생각되는 경우를 선택"
   ]
  },
  {
   "cell_type": "markdown",
   "metadata": {},
   "source": [
    "### 동전 문제"
   ]
  },
  {
   "cell_type": "code",
   "execution_count": 1,
   "metadata": {},
   "outputs": [],
   "source": [
    "coin_list = [500, 100, 50, 1]"
   ]
  },
  {
   "cell_type": "code",
   "execution_count": 17,
   "metadata": {},
   "outputs": [],
   "source": [
    "def min_coin_count(value, coin_list):\n",
    "    if len(coin_list) == 0: return []\n",
    "    if value in coin_list: return [1]\n",
    "    coin_list.sort(reverse=True)\n",
    "    total_coin_count = 0\n",
    "    if coin_list[0] < value:\n",
    "        total_coin_count = value//coin_list[0]\n",
    "        value %= coin_list[0]\n",
    "    details = [total_coin_count]\n",
    "    \n",
    "    return details + min_coin_count(value, coin_list[1:])"
   ]
  },
  {
   "cell_type": "code",
   "execution_count": 18,
   "metadata": {},
   "outputs": [
    {
     "name": "stdout",
     "output_type": "stream",
     "text": [
      "[9, 2, 0, 20]\n"
     ]
    }
   ],
   "source": [
    "print(min_coin_count(4720, coin_list))"
   ]
  },
  {
   "cell_type": "code",
   "execution_count": 20,
   "metadata": {},
   "outputs": [],
   "source": [
    "def min_coin_count(value, coin_list):\n",
    "    total_coin_count = 0\n",
    "    details = list()\n",
    "    coin_list.sort(reverse=True)\n",
    "    for coin in coin_list:\n",
    "        coin_num = value // coin\n",
    "        total_coin_count += coin_num\n",
    "        value -= coin_num * coin\n",
    "        details.append((coin, coin_num))\n",
    "    return total_coin_count, details"
   ]
  },
  {
   "cell_type": "code",
   "execution_count": 21,
   "metadata": {},
   "outputs": [
    {
     "data": {
      "text/plain": [
       "(31, [(500, 9), (100, 2), (50, 0), (1, 20)])"
      ]
     },
     "execution_count": 21,
     "metadata": {},
     "output_type": "execute_result"
    }
   ],
   "source": [
    "min_coin_count(4720, coin_list)"
   ]
  },
  {
   "cell_type": "markdown",
   "metadata": {},
   "source": [
    "### 부분 배낭 문제"
   ]
  },
  {
   "cell_type": "code",
   "execution_count": 28,
   "metadata": {},
   "outputs": [],
   "source": [
    "data_list = [(10, 10), (15, 12), (20, 10), (25, 8), (30, 5)]"
   ]
  },
  {
   "cell_type": "code",
   "execution_count": 30,
   "metadata": {},
   "outputs": [],
   "source": [
    "def get_max_value(data_list, capacity):\n",
    "    data_list.sort(key=lambda x: x[1]/x[0], reverse=True)\n",
    "    total_value = 0\n",
    "    details = []\n",
    "    \n",
    "    for data in data_list:\n",
    "        if capacity - data[0] >= 0:\n",
    "            capacity -= data[0]\n",
    "            total_value += data[1]\n",
    "            details.append([data[0], data[1], 1])\n",
    "        else:\n",
    "            fraction = capacity/data[0]\n",
    "            total_value += data[1] * fraction\n",
    "            details.append([data[0], data[1], fraction])\n",
    "            break\n",
    "    return total_value, details"
   ]
  },
  {
   "cell_type": "code",
   "execution_count": 31,
   "metadata": {},
   "outputs": [
    {
     "data": {
      "text/plain": [
       "(24.5, [[10, 10, 1], [15, 12, 1], [20, 10, 0.25]])"
      ]
     },
     "execution_count": 31,
     "metadata": {},
     "output_type": "execute_result"
    }
   ],
   "source": [
    "get_max_value(data_list, 30)"
   ]
  },
  {
   "cell_type": "code",
   "execution_count": null,
   "metadata": {},
   "outputs": [],
   "source": []
  }
 ],
 "metadata": {
  "kernelspec": {
   "display_name": "Python 3",
   "language": "python",
   "name": "python3"
  },
  "language_info": {
   "codemirror_mode": {
    "name": "ipython",
    "version": 3
   },
   "file_extension": ".py",
   "mimetype": "text/x-python",
   "name": "python",
   "nbconvert_exporter": "python",
   "pygments_lexer": "ipython3",
   "version": "3.7.0"
  }
 },
 "nbformat": 4,
 "nbformat_minor": 4
}
