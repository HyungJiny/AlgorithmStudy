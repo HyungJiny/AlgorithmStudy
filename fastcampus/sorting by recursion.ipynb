{
 "cells": [
  {
   "cell_type": "code",
   "execution_count": 1,
   "id": "convinced-stroke",
   "metadata": {},
   "outputs": [],
   "source": [
    "import random"
   ]
  },
  {
   "cell_type": "markdown",
   "id": "spiritual-fluid",
   "metadata": {},
   "source": [
    "## 반복문 없이 재귀만으로 정렬하기"
   ]
  },
  {
   "cell_type": "code",
   "execution_count": 2,
   "id": "naked-argument",
   "metadata": {},
   "outputs": [],
   "source": [
    "def solution(nums, desc=False):\n",
    "    if len(nums) <= 1: return nums\n",
    "    min_value = get_min_value(nums)\n",
    "    if desc: return solution(nums[:min_value[1]] + nums[min_value[1]+1:], desc) + [min_value[0]]\n",
    "    else: return [min_value[0]] + solution(nums[:min_value[1]] + nums[min_value[1]+1:])"
   ]
  },
  {
   "cell_type": "code",
   "execution_count": 3,
   "id": "western-uganda",
   "metadata": {},
   "outputs": [],
   "source": [
    "def get_min_value(nums, i=0):\n",
    "    if len(nums) == 1: return (nums[0], i)\n",
    "    elif len(nums) < 1: return \n",
    "    min_value = get_min_value(nums[1:], i+1)\n",
    "    if min_value[0] > nums[0]:\n",
    "        return (nums[0], i)\n",
    "    else:\n",
    "        return min_value"
   ]
  },
  {
   "cell_type": "code",
   "execution_count": 4,
   "id": "funded-mount",
   "metadata": {},
   "outputs": [
    {
     "name": "stdout",
     "output_type": "stream",
     "text": [
      "[7, 67, 57, 1, 50, 49, 29, 72, 82, 61, 30, 6, 12, 5, 19, 99, 51, 85, 37, 36, 3, 41, 69, 97, 27, 90, 98, 56, 43, 62, 54, 40, 55, 21, 47, 8, 22, 83, 46, 68]\n",
      "[1, 3, 5, 6, 7, 8, 12, 19, 21, 22, 27, 29, 30, 36, 37, 40, 41, 43, 46, 47, 49, 50, 51, 54, 55, 56, 57, 61, 62, 67, 68, 69, 72, 82, 83, 85, 90, 97, 98, 99]\n",
      "[99, 98, 97, 90, 85, 83, 82, 72, 69, 68, 67, 62, 61, 57, 56, 55, 54, 51, 50, 49, 47, 46, 43, 41, 40, 37, 36, 30, 29, 27, 22, 21, 19, 12, 8, 7, 6, 5, 3, 1]\n"
     ]
    }
   ],
   "source": [
    "sample = random.sample(range(100), 40)\n",
    "print(sample)\n",
    "print(solution(sample))\n",
    "print(solution(sample, desc=True))"
   ]
  },
  {
   "cell_type": "code",
   "execution_count": null,
   "id": "humanitarian-actress",
   "metadata": {},
   "outputs": [],
   "source": []
  }
 ],
 "metadata": {
  "kernelspec": {
   "display_name": "Python 3",
   "language": "python",
   "name": "python3"
  },
  "language_info": {
   "codemirror_mode": {
    "name": "ipython",
    "version": 3
   },
   "file_extension": ".py",
   "mimetype": "text/x-python",
   "name": "python",
   "nbconvert_exporter": "python",
   "pygments_lexer": "ipython3",
   "version": "3.8.5"
  }
 },
 "nbformat": 4,
 "nbformat_minor": 5
}
